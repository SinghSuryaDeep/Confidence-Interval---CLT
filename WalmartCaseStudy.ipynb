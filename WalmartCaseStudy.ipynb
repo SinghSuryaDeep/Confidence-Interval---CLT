{
 "cells": [
  {
   "cell_type": "code",
   "execution_count": 1,
   "id": "b70d01a7",
   "metadata": {},
   "outputs": [],
   "source": [
    "import pandas as pd\n",
    "import seaborn as sbn\n",
    "import matplotlib.pyplot as plt\n",
    "import numpy as np\n",
    "import seaborn as sns\n",
    "import scipy.stats as stats\n",
    "import statsmodels.api as sm"
   ]
  },
  {
   "cell_type": "code",
   "execution_count": 2,
   "id": "e2b76360",
   "metadata": {},
   "outputs": [],
   "source": [
    "df=pd.read_csv('walmart_data.csv')"
   ]
  },
  {
   "cell_type": "code",
   "execution_count": 3,
   "id": "0e4f793f",
   "metadata": {},
   "outputs": [
    {
     "data": {
      "text/html": [
       "<div>\n",
       "<style scoped>\n",
       "    .dataframe tbody tr th:only-of-type {\n",
       "        vertical-align: middle;\n",
       "    }\n",
       "\n",
       "    .dataframe tbody tr th {\n",
       "        vertical-align: top;\n",
       "    }\n",
       "\n",
       "    .dataframe thead th {\n",
       "        text-align: right;\n",
       "    }\n",
       "</style>\n",
       "<table border=\"1\" class=\"dataframe\">\n",
       "  <thead>\n",
       "    <tr style=\"text-align: right;\">\n",
       "      <th></th>\n",
       "      <th>User_ID</th>\n",
       "      <th>Product_ID</th>\n",
       "      <th>Gender</th>\n",
       "      <th>Age</th>\n",
       "      <th>Occupation</th>\n",
       "      <th>City_Category</th>\n",
       "      <th>Stay_In_Current_City_Years</th>\n",
       "      <th>Marital_Status</th>\n",
       "      <th>Product_Category</th>\n",
       "      <th>Purchase</th>\n",
       "    </tr>\n",
       "  </thead>\n",
       "  <tbody>\n",
       "    <tr>\n",
       "      <th>0</th>\n",
       "      <td>1000001</td>\n",
       "      <td>P00069042</td>\n",
       "      <td>F</td>\n",
       "      <td>0-17</td>\n",
       "      <td>10</td>\n",
       "      <td>A</td>\n",
       "      <td>2</td>\n",
       "      <td>0</td>\n",
       "      <td>3</td>\n",
       "      <td>8370</td>\n",
       "    </tr>\n",
       "    <tr>\n",
       "      <th>1</th>\n",
       "      <td>1000001</td>\n",
       "      <td>P00248942</td>\n",
       "      <td>F</td>\n",
       "      <td>0-17</td>\n",
       "      <td>10</td>\n",
       "      <td>A</td>\n",
       "      <td>2</td>\n",
       "      <td>0</td>\n",
       "      <td>1</td>\n",
       "      <td>15200</td>\n",
       "    </tr>\n",
       "    <tr>\n",
       "      <th>2</th>\n",
       "      <td>1000001</td>\n",
       "      <td>P00087842</td>\n",
       "      <td>F</td>\n",
       "      <td>0-17</td>\n",
       "      <td>10</td>\n",
       "      <td>A</td>\n",
       "      <td>2</td>\n",
       "      <td>0</td>\n",
       "      <td>12</td>\n",
       "      <td>1422</td>\n",
       "    </tr>\n",
       "    <tr>\n",
       "      <th>3</th>\n",
       "      <td>1000001</td>\n",
       "      <td>P00085442</td>\n",
       "      <td>F</td>\n",
       "      <td>0-17</td>\n",
       "      <td>10</td>\n",
       "      <td>A</td>\n",
       "      <td>2</td>\n",
       "      <td>0</td>\n",
       "      <td>12</td>\n",
       "      <td>1057</td>\n",
       "    </tr>\n",
       "    <tr>\n",
       "      <th>4</th>\n",
       "      <td>1000002</td>\n",
       "      <td>P00285442</td>\n",
       "      <td>M</td>\n",
       "      <td>55+</td>\n",
       "      <td>16</td>\n",
       "      <td>C</td>\n",
       "      <td>4+</td>\n",
       "      <td>0</td>\n",
       "      <td>8</td>\n",
       "      <td>7969</td>\n",
       "    </tr>\n",
       "  </tbody>\n",
       "</table>\n",
       "</div>"
      ],
      "text/plain": [
       "   User_ID Product_ID Gender   Age  Occupation City_Category  \\\n",
       "0  1000001  P00069042      F  0-17          10             A   \n",
       "1  1000001  P00248942      F  0-17          10             A   \n",
       "2  1000001  P00087842      F  0-17          10             A   \n",
       "3  1000001  P00085442      F  0-17          10             A   \n",
       "4  1000002  P00285442      M   55+          16             C   \n",
       "\n",
       "  Stay_In_Current_City_Years  Marital_Status  Product_Category  Purchase  \n",
       "0                          2               0                 3      8370  \n",
       "1                          2               0                 1     15200  \n",
       "2                          2               0                12      1422  \n",
       "3                          2               0                12      1057  \n",
       "4                         4+               0                 8      7969  "
      ]
     },
     "execution_count": 3,
     "metadata": {},
     "output_type": "execute_result"
    }
   ],
   "source": [
    "df.head(5)"
   ]
  },
  {
   "cell_type": "code",
   "execution_count": 4,
   "id": "cf7f19aa",
   "metadata": {},
   "outputs": [
    {
     "name": "stdout",
     "output_type": "stream",
     "text": [
      "<class 'pandas.core.frame.DataFrame'>\n",
      "RangeIndex: 550068 entries, 0 to 550067\n",
      "Data columns (total 10 columns):\n",
      " #   Column                      Non-Null Count   Dtype \n",
      "---  ------                      --------------   ----- \n",
      " 0   User_ID                     550068 non-null  int64 \n",
      " 1   Product_ID                  550068 non-null  object\n",
      " 2   Gender                      550068 non-null  object\n",
      " 3   Age                         550068 non-null  object\n",
      " 4   Occupation                  550068 non-null  int64 \n",
      " 5   City_Category               550068 non-null  object\n",
      " 6   Stay_In_Current_City_Years  550068 non-null  object\n",
      " 7   Marital_Status              550068 non-null  int64 \n",
      " 8   Product_Category            550068 non-null  int64 \n",
      " 9   Purchase                    550068 non-null  int64 \n",
      "dtypes: int64(5), object(5)\n",
      "memory usage: 42.0+ MB\n"
     ]
    }
   ],
   "source": [
    "df.info()"
   ]
  },
  {
   "cell_type": "code",
   "execution_count": 5,
   "id": "5b84f507",
   "metadata": {},
   "outputs": [
    {
     "data": {
      "text/plain": [
       "550068"
      ]
     },
     "execution_count": 5,
     "metadata": {},
     "output_type": "execute_result"
    }
   ],
   "source": [
    "df.shape[0]"
   ]
  },
  {
   "cell_type": "code",
   "execution_count": 6,
   "id": "7d065d80",
   "metadata": {},
   "outputs": [],
   "source": [
    "sample_size= df.shape[0]"
   ]
  },
  {
   "cell_type": "code",
   "execution_count": 7,
   "id": "35759637",
   "metadata": {},
   "outputs": [
    {
     "data": {
      "text/plain": [
       "Gender\n",
       "F    1666\n",
       "M    4225\n",
       "Name: User_ID, dtype: int64"
      ]
     },
     "execution_count": 7,
     "metadata": {},
     "output_type": "execute_result"
    }
   ],
   "source": [
    "#unique users in different genders\n",
    "df.groupby('Gender')['User_ID'].nunique()\n"
   ]
  },
  {
   "cell_type": "code",
   "execution_count": 8,
   "id": "1b26e588",
   "metadata": {},
   "outputs": [
    {
     "data": {
      "text/plain": [
       "M    414259\n",
       "F    135809\n",
       "Name: Gender, dtype: int64"
      ]
     },
     "execution_count": 8,
     "metadata": {},
     "output_type": "execute_result"
    }
   ],
   "source": [
    "#distribution of gender\n",
    "df['Gender'].value_counts()"
   ]
  },
  {
   "cell_type": "code",
   "execution_count": 9,
   "id": "9996883b",
   "metadata": {},
   "outputs": [
    {
     "data": {
      "text/html": [
       "<div>\n",
       "<style scoped>\n",
       "    .dataframe tbody tr th:only-of-type {\n",
       "        vertical-align: middle;\n",
       "    }\n",
       "\n",
       "    .dataframe tbody tr th {\n",
       "        vertical-align: top;\n",
       "    }\n",
       "\n",
       "    .dataframe thead th {\n",
       "        text-align: right;\n",
       "    }\n",
       "</style>\n",
       "<table border=\"1\" class=\"dataframe\">\n",
       "  <thead>\n",
       "    <tr style=\"text-align: right;\">\n",
       "      <th></th>\n",
       "      <th>count</th>\n",
       "      <th>mean</th>\n",
       "      <th>std</th>\n",
       "      <th>min</th>\n",
       "      <th>25%</th>\n",
       "      <th>50%</th>\n",
       "      <th>75%</th>\n",
       "      <th>max</th>\n",
       "    </tr>\n",
       "    <tr>\n",
       "      <th>Gender</th>\n",
       "      <th></th>\n",
       "      <th></th>\n",
       "      <th></th>\n",
       "      <th></th>\n",
       "      <th></th>\n",
       "      <th></th>\n",
       "      <th></th>\n",
       "      <th></th>\n",
       "    </tr>\n",
       "  </thead>\n",
       "  <tbody>\n",
       "    <tr>\n",
       "      <th>F</th>\n",
       "      <td>135809.0</td>\n",
       "      <td>8734.565765</td>\n",
       "      <td>4767.233289</td>\n",
       "      <td>12.0</td>\n",
       "      <td>5433.0</td>\n",
       "      <td>7914.0</td>\n",
       "      <td>11400.0</td>\n",
       "      <td>23959.0</td>\n",
       "    </tr>\n",
       "    <tr>\n",
       "      <th>M</th>\n",
       "      <td>414259.0</td>\n",
       "      <td>9437.526040</td>\n",
       "      <td>5092.186210</td>\n",
       "      <td>12.0</td>\n",
       "      <td>5863.0</td>\n",
       "      <td>8098.0</td>\n",
       "      <td>12454.0</td>\n",
       "      <td>23961.0</td>\n",
       "    </tr>\n",
       "  </tbody>\n",
       "</table>\n",
       "</div>"
      ],
      "text/plain": [
       "           count         mean          std   min     25%     50%      75%  \\\n",
       "Gender                                                                      \n",
       "F       135809.0  8734.565765  4767.233289  12.0  5433.0  7914.0  11400.0   \n",
       "M       414259.0  9437.526040  5092.186210  12.0  5863.0  8098.0  12454.0   \n",
       "\n",
       "            max  \n",
       "Gender           \n",
       "F       23959.0  \n",
       "M       23961.0  "
      ]
     },
     "execution_count": 9,
     "metadata": {},
     "output_type": "execute_result"
    }
   ],
   "source": [
    "#Check different metrics on purchase by different genders\n",
    "df.groupby('Gender')['Purchase'].describe()\n"
   ]
  },
  {
   "cell_type": "code",
   "execution_count": 10,
   "id": "409ec9be",
   "metadata": {},
   "outputs": [
    {
     "data": {
      "text/plain": [
       "<Axes: xlabel='Gender', ylabel='Purchase'>"
      ]
     },
     "execution_count": 10,
     "metadata": {},
     "output_type": "execute_result"
    },
    {
     "data": {
      "image/png": "[encoded data removed]",
      "text/plain": [
       "<Figure size 1200x800 with 1 Axes>"
      ]
     },
     "metadata": {},
     "output_type": "display_data"
    }
   ],
   "source": [
    "plt.figure(figsize=(12,8))\n",
    "sbn.boxplot(x='Gender', y='Purchase', data=df)"
   ]
  },
  {
   "cell_type": "markdown",
   "id": "90b2a933",
   "metadata": {},
   "source": [
    "In one month, 1666 Females are spending mean -8734.565765 & median - 7914.0 4225 Males are spending mean- 9437.526040 Median - 8098.0"
   ]
  },
  {
   "cell_type": "code",
   "execution_count": 11,
   "id": "adb89eb6",
   "metadata": {},
   "outputs": [
    {
     "data": {
      "text/plain": [
       "2.536014405762305"
      ]
     },
     "execution_count": 11,
     "metadata": {},
     "output_type": "execute_result"
    }
   ],
   "source": [
    "#Check ratio of males to female\n",
    "4225/1666"
   ]
  },
  {
   "cell_type": "code",
   "execution_count": 12,
   "id": "d30823a0",
   "metadata": {},
   "outputs": [
    {
     "data": {
      "text/plain": [
       "<Axes: xlabel='Age', ylabel='count'>"
      ]
     },
     "execution_count": 12,
     "metadata": {},
     "output_type": "execute_result"
    },
    {
     "data": {
      "image/png": "[encoded data removed]",
      "text/plain": [
       "<Figure size 640x480 with 1 Axes>"
      ]
     },
     "metadata": {},
     "output_type": "display_data"
    }
   ],
   "source": [
    "sns.countplot(x = df['Age'], data=df )"
   ]
  },
  {
   "cell_type": "markdown",
   "id": "62f52ec3",
   "metadata": {},
   "source": [
    "# Checking through visualization:"
   ]
  },
  {
   "cell_type": "code",
   "execution_count": 13,
   "id": "a46b3e16",
   "metadata": {},
   "outputs": [
    {
     "data": {
      "text/plain": [
       "<matplotlib.lines.Line2D at 0x169be7be0>"
      ]
     },
     "execution_count": 13,
     "metadata": {},
     "output_type": "execute_result"
    },
    {
     "data": {
      "text/plain": [
       "<Figure size 2000x800 with 0 Axes>"
      ]
     },
     "metadata": {},
     "output_type": "display_data"
    },
    {
     "data": {
      "image/png": "[encoded data removed]",
      "text/plain": [
       "<Figure size 562.236x500 with 1 Axes>"
      ]
     },
     "metadata": {},
     "output_type": "display_data"
    }
   ],
   "source": [
    "plt.figure(figsize=(20,8))\n",
    "sbn.displot(x='Purchase', data=df, bins=25,hue='Gender')\n",
    "plt.xlabel('Purchase')\n",
    "plt.ylabel('frequency')\n",
    "plt.title('Histogram of Purchase')\n",
    "plt.axvline(x=df['Purchase'].mean(),color='r')\n",
    "plt.axvline(x=df[df['Gender']=='M']['Purchase'].mean(),color='b')\n",
    "plt.axvline(x=df[df['Gender']=='F']['Purchase'].mean(),color='g')"
   ]
  },
  {
   "cell_type": "markdown",
   "id": "f00a2642",
   "metadata": {},
   "source": [
    "We can see that the distribution is close to normal."
   ]
  },
  {
   "cell_type": "code",
   "execution_count": 14,
   "id": "39d88f8c",
   "metadata": {},
   "outputs": [
    {
     "data": {
      "text/html": [
       "<div>\n",
       "<style scoped>\n",
       "    .dataframe tbody tr th:only-of-type {\n",
       "        vertical-align: middle;\n",
       "    }\n",
       "\n",
       "    .dataframe tbody tr th {\n",
       "        vertical-align: top;\n",
       "    }\n",
       "\n",
       "    .dataframe thead th {\n",
       "        text-align: right;\n",
       "    }\n",
       "</style>\n",
       "<table border=\"1\" class=\"dataframe\">\n",
       "  <thead>\n",
       "    <tr style=\"text-align: right;\">\n",
       "      <th></th>\n",
       "      <th>count</th>\n",
       "      <th>mean</th>\n",
       "      <th>std</th>\n",
       "      <th>min</th>\n",
       "      <th>25%</th>\n",
       "      <th>50%</th>\n",
       "      <th>75%</th>\n",
       "      <th>max</th>\n",
       "    </tr>\n",
       "    <tr>\n",
       "      <th>Gender</th>\n",
       "      <th></th>\n",
       "      <th></th>\n",
       "      <th></th>\n",
       "      <th></th>\n",
       "      <th></th>\n",
       "      <th></th>\n",
       "      <th></th>\n",
       "      <th></th>\n",
       "    </tr>\n",
       "  </thead>\n",
       "  <tbody>\n",
       "    <tr>\n",
       "      <th>F</th>\n",
       "      <td>135809.0</td>\n",
       "      <td>8734.565765</td>\n",
       "      <td>4767.233289</td>\n",
       "      <td>12.0</td>\n",
       "      <td>5433.0</td>\n",
       "      <td>7914.0</td>\n",
       "      <td>11400.0</td>\n",
       "      <td>23959.0</td>\n",
       "    </tr>\n",
       "    <tr>\n",
       "      <th>M</th>\n",
       "      <td>414259.0</td>\n",
       "      <td>9437.526040</td>\n",
       "      <td>5092.186210</td>\n",
       "      <td>12.0</td>\n",
       "      <td>5863.0</td>\n",
       "      <td>8098.0</td>\n",
       "      <td>12454.0</td>\n",
       "      <td>23961.0</td>\n",
       "    </tr>\n",
       "  </tbody>\n",
       "</table>\n",
       "</div>"
      ],
      "text/plain": [
       "           count         mean          std   min     25%     50%      75%  \\\n",
       "Gender                                                                      \n",
       "F       135809.0  8734.565765  4767.233289  12.0  5433.0  7914.0  11400.0   \n",
       "M       414259.0  9437.526040  5092.186210  12.0  5863.0  8098.0  12454.0   \n",
       "\n",
       "            max  \n",
       "Gender           \n",
       "F       23959.0  \n",
       "M       23961.0  "
      ]
     },
     "execution_count": 14,
     "metadata": {},
     "output_type": "execute_result"
    }
   ],
   "source": [
    "#checking mean and standard deviation\n",
    "df.groupby('Gender')['Purchase'].describe()"
   ]
  },
  {
   "cell_type": "code",
   "execution_count": 15,
   "id": "df21f4cc",
   "metadata": {},
   "outputs": [
    {
     "data": {
      "text/plain": [
       "8734.565765155476"
      ]
     },
     "execution_count": 15,
     "metadata": {},
     "output_type": "execute_result"
    }
   ],
   "source": [
    "df[df['Gender']=='F']['Purchase'].mean()"
   ]
  },
  {
   "cell_type": "code",
   "execution_count": 16,
   "id": "476ab813",
   "metadata": {},
   "outputs": [
    {
     "data": {
      "text/plain": [
       "4767.233289291444"
      ]
     },
     "execution_count": 16,
     "metadata": {},
     "output_type": "execute_result"
    }
   ],
   "source": [
    "df[df['Gender']=='F']['Purchase'].std()"
   ]
  },
  {
   "cell_type": "markdown",
   "id": "20d08eb8",
   "metadata": {},
   "source": [
    "Thinking of this dataset as population. Let's \u0000rst check if applying CLT on it's sample gives us actual characteris of the population or not.\n",
    "Let us take a random sample (size = 300) from this data to analyse the sample mean.\n"
   ]
  },
  {
   "cell_type": "code",
   "execution_count": 17,
   "id": "3e1de3a5",
   "metadata": {},
   "outputs": [
    {
     "data": {
      "text/html": [
       "<div>\n",
       "<style scoped>\n",
       "    .dataframe tbody tr th:only-of-type {\n",
       "        vertical-align: middle;\n",
       "    }\n",
       "\n",
       "    .dataframe tbody tr th {\n",
       "        vertical-align: top;\n",
       "    }\n",
       "\n",
       "    .dataframe thead th {\n",
       "        text-align: right;\n",
       "    }\n",
       "</style>\n",
       "<table border=\"1\" class=\"dataframe\">\n",
       "  <thead>\n",
       "    <tr style=\"text-align: right;\">\n",
       "      <th></th>\n",
       "      <th>count</th>\n",
       "      <th>mean</th>\n",
       "      <th>std</th>\n",
       "      <th>min</th>\n",
       "      <th>25%</th>\n",
       "      <th>50%</th>\n",
       "      <th>75%</th>\n",
       "      <th>max</th>\n",
       "    </tr>\n",
       "    <tr>\n",
       "      <th>Gender</th>\n",
       "      <th></th>\n",
       "      <th></th>\n",
       "      <th></th>\n",
       "      <th></th>\n",
       "      <th></th>\n",
       "      <th></th>\n",
       "      <th></th>\n",
       "      <th></th>\n",
       "    </tr>\n",
       "  </thead>\n",
       "  <tbody>\n",
       "    <tr>\n",
       "      <th>F</th>\n",
       "      <td>81.0</td>\n",
       "      <td>9824.728395</td>\n",
       "      <td>4788.860057</td>\n",
       "      <td>2754.0</td>\n",
       "      <td>6133.0</td>\n",
       "      <td>8621.0</td>\n",
       "      <td>13153.0</td>\n",
       "      <td>20673.0</td>\n",
       "    </tr>\n",
       "    <tr>\n",
       "      <th>M</th>\n",
       "      <td>219.0</td>\n",
       "      <td>9259.954338</td>\n",
       "      <td>4644.420087</td>\n",
       "      <td>61.0</td>\n",
       "      <td>6106.0</td>\n",
       "      <td>8019.0</td>\n",
       "      <td>11683.5</td>\n",
       "      <td>20594.0</td>\n",
       "    </tr>\n",
       "  </tbody>\n",
       "</table>\n",
       "</div>"
      ],
      "text/plain": [
       "        count         mean          std     min     25%     50%      75%  \\\n",
       "Gender                                                                     \n",
       "F        81.0  9824.728395  4788.860057  2754.0  6133.0  8621.0  13153.0   \n",
       "M       219.0  9259.954338  4644.420087    61.0  6106.0  8019.0  11683.5   \n",
       "\n",
       "            max  \n",
       "Gender           \n",
       "F       20673.0  \n",
       "M       20594.0  "
      ]
     },
     "execution_count": 17,
     "metadata": {},
     "output_type": "execute_result"
    }
   ],
   "source": [
    "df.sample(300).groupby('Gender')['Purchase'].describe()"
   ]
  },
  {
   "cell_type": "markdown",
   "id": "0e6a7904",
   "metadata": {},
   "source": [
    "Every time we take a sample, o ur mean value is different. There is variability in the sample mean itself. Does the sample mean itself follow a distribution? Let’s assess this. Let us pick around 1,000 random samples of size 300 from the entire data set and calculated the mean of each sample."
   ]
  },
  {
   "cell_type": "code",
   "execution_count": 18,
   "id": "7f870e61",
   "metadata": {},
   "outputs": [],
   "source": [
    "male_sample_means=[df[df['Gender']=='M']['Purchase'].sample(300).mean() for i in range(1000)]"
   ]
  },
  {
   "cell_type": "code",
   "execution_count": 19,
   "id": "3ddca158",
   "metadata": {},
   "outputs": [],
   "source": [
    "female_sample_means=[df[df['Gender']=='F']['Purchase'].sample(300).mean() for i in range(1000)]"
   ]
  },
  {
   "cell_type": "markdown",
   "id": "6374eea6",
   "metadata": {},
   "source": [
    "# 95% Confidence Interval"
   ]
  },
  {
   "cell_type": "code",
   "execution_count": 20,
   "id": "8aee2ced",
   "metadata": {},
   "outputs": [
    {
     "data": {
      "text/plain": [
       "[8953.943173291711, 9921.108907652819]"
      ]
     },
     "execution_count": 20,
     "metadata": {},
     "output_type": "execute_result"
    }
   ],
   "source": [
    "## Calculation for 95% confidence interval for males\n",
    "wm_male = df.loc[df['Gender'] == 'M']\n",
    "Z95 = stats.norm.ppf(0.95)\n",
    "male_txn =wm_male.Purchase\n",
    "reps = 300\n",
    "mll = male_txn.mean() - (Z95 * (male_txn.std()/np.sqrt(reps))) \n",
    "mhl = male_txn.mean() + (Z95 * (male_txn.std()/np.sqrt(reps))) \n",
    "[mll, mhl]"
   ]
  },
  {
   "cell_type": "code",
   "execution_count": 21,
   "id": "de051294",
   "metadata": {},
   "outputs": [
    {
     "data": {
      "text/plain": [
       "[8281.842269277136, 9187.289261033815]"
      ]
     },
     "execution_count": 21,
     "metadata": {},
     "output_type": "execute_result"
    }
   ],
   "source": [
    "## Calculation for 95% confidence interval for females\n",
    "\n",
    "wm_female = df.loc[df['Gender'] == 'F']\n",
    "Z95 = stats.norm.ppf(0.95)\n",
    "female_txn =wm_female.Purchase\n",
    "reps = 300\n",
    "wll = female_txn.mean() - (Z95 * (female_txn.std()/np.sqrt(reps))) \n",
    "whl = female_txn.mean() + (Z95 * (female_txn.std()/np.sqrt(reps))) \n",
    "[wll, whl]"
   ]
  },
  {
   "cell_type": "code",
   "execution_count": 22,
   "id": "f4ec9eb7",
   "metadata": {},
   "outputs": [
    {
     "data": {
      "text/plain": [
       "233.34608774210392"
      ]
     },
     "execution_count": 22,
     "metadata": {},
     "output_type": "execute_result"
    }
   ],
   "source": [
    "overlap = np.abs(mll-whl) \n",
    "overlap"
   ]
  },
  {
   "cell_type": "code",
   "execution_count": 23,
   "id": "2b2276fa",
   "metadata": {},
   "outputs": [
    {
     "data": {
      "text/plain": [
       "1639.2666383756823"
      ]
     },
     "execution_count": 23,
     "metadata": {},
     "output_type": "execute_result"
    }
   ],
   "source": [
    "span = np.abs(mhl-wll) \n",
    "span"
   ]
  },
  {
   "cell_type": "code",
   "execution_count": 24,
   "id": "679e269c",
   "metadata": {},
   "outputs": [
    {
     "data": {
      "text/plain": [
       "14.23"
      ]
     },
     "execution_count": 24,
     "metadata": {},
     "output_type": "execute_result"
    }
   ],
   "source": [
    "overlap_percent = (overlap/span * 100).round(2)\n",
    "overlap_percent"
   ]
  },
  {
   "cell_type": "markdown",
   "id": "14f8100a",
   "metadata": {},
   "source": [
    "Plot the distribution of all these sample means (This is our sampling distribution)."
   ]
  },
  {
   "cell_type": "markdown",
   "id": "534067ca",
   "metadata": {},
   "source": [
    "# Applying Central Limit Theorem"
   ]
  },
  {
   "cell_type": "code",
   "execution_count": 25,
   "id": "3e5bf431",
   "metadata": {},
   "outputs": [
    {
     "data": {
      "text/plain": [
       "<seaborn.axisgrid.FacetGrid at 0x169b73dc0>"
      ]
     },
     "execution_count": 25,
     "metadata": {},
     "output_type": "execute_result"
    },
    {
     "data": {
      "image/png": "[encoded data removed]",
      "text/plain": [
       "<Figure size 500x500 with 1 Axes>"
      ]
     },
     "metadata": {},
     "output_type": "display_data"
    }
   ],
   "source": [
    "sbn.displot(male_sample_means,bins=100)"
   ]
  },
  {
   "cell_type": "code",
   "execution_count": 26,
   "id": "3493675d",
   "metadata": {},
   "outputs": [
    {
     "data": {
      "text/plain": [
       "<seaborn.axisgrid.FacetGrid at 0x169d4d150>"
      ]
     },
     "execution_count": 26,
     "metadata": {},
     "output_type": "execute_result"
    },
    {
     "data": {
      "image/png": "[encoded data removed]",
      "text/plain": [
       "<Figure size 500x500 with 1 Axes>"
      ]
     },
     "metadata": {},
     "output_type": "display_data"
    }
   ],
   "source": [
    "sbn.displot(female_sample_means, bins=100)"
   ]
  },
  {
   "cell_type": "markdown",
   "id": "7a40ea8a",
   "metadata": {},
   "source": [
    "We can observe that the sampling distribution is nearly normal. Now we will compute the mean and standard deviation of this sampling distribution."
   ]
  },
  {
   "cell_type": "code",
   "execution_count": 27,
   "id": "4deae417",
   "metadata": {},
   "outputs": [
    {
     "data": {
      "text/plain": [
       "9430.021986666667"
      ]
     },
     "execution_count": 27,
     "metadata": {},
     "output_type": "execute_result"
    }
   ],
   "source": [
    "pd.Series(male_sample_means).mean()"
   ]
  },
  {
   "cell_type": "code",
   "execution_count": 28,
   "id": "29854a4b",
   "metadata": {},
   "outputs": [
    {
     "data": {
      "text/plain": [
       "8729.058083333332"
      ]
     },
     "execution_count": 28,
     "metadata": {},
     "output_type": "execute_result"
    }
   ],
   "source": [
    "pd.Series(female_sample_means).mean()"
   ]
  },
  {
   "cell_type": "markdown",
   "id": "57f1d17c",
   "metadata": {},
   "source": [
    "The mean of this sampling distribution (or in other words, the mean of all the sample means that we had taken), came out pretty close to the original population mean. This demonstrates the \u0000rst property of the Central Limit theorem\n",
    "Sampling Distribution mean= Population Mean"
   ]
  },
  {
   "cell_type": "markdown",
   "id": "6342f7fd",
   "metadata": {},
   "source": [
    "However, it would not be fair to infer that the population mean is exactly equal to the sample mean. It is because the defects in the sampling process always tend to cause some errors. Therefore, the sample mean’s value must be reported with some margin of error."
   ]
  },
  {
   "cell_type": "code",
   "execution_count": 29,
   "id": "7b12103f",
   "metadata": {},
   "outputs": [
    {
     "data": {
      "text/plain": [
       "294.61950402103855"
      ]
     },
     "execution_count": 29,
     "metadata": {},
     "output_type": "execute_result"
    }
   ],
   "source": [
    "pd.Series(male_sample_means).std()"
   ]
  },
  {
   "cell_type": "code",
   "execution_count": 30,
   "id": "2b07fc47",
   "metadata": {},
   "outputs": [
    {
     "data": {
      "text/plain": [
       "9.316686758156182"
      ]
     },
     "execution_count": 30,
     "metadata": {},
     "output_type": "execute_result"
    }
   ],
   "source": [
    "pd.Series(male_sample_means).std()/np.sqrt(1000)"
   ]
  },
  {
   "cell_type": "markdown",
   "id": "8604a170",
   "metadata": {},
   "source": [
    "Now that we have veri\u0000ed these two properties, let us observe the effect of sample size on the resulting sampling distribution. In this demonstration, we will observe that as the sample size increases, the underlying sampling distribution will approximate a normal distribution."
   ]
  },
  {
   "cell_type": "markdown",
   "id": "91526429",
   "metadata": {},
   "source": [
    "# Applying Confidence Interval"
   ]
  },
  {
   "cell_type": "code",
   "execution_count": 31,
   "id": "8b6bdd0d",
   "metadata": {},
   "outputs": [
    {
     "data": {
      "text/plain": [
       "(8712.382858362616, 8745.733308304047)"
      ]
     },
     "execution_count": 31,
     "metadata": {},
     "output_type": "execute_result"
    }
   ],
   "source": [
    "#95% Confidence Interval\n",
    "lower_limit_female = ((pd.Series(female_sample_means).mean()) - ((pd.Series(female_sample_means).std()/np.sqrt(1000))*1.96))\n",
    "upper_limit_female = ((pd.Series(female_sample_means).mean()) + ((pd.Series(female_sample_means).std()/np.sqrt(1000))*1.96))\n",
    "lower_limit_female, upper_limit_female"
   ]
  },
  {
   "cell_type": "code",
   "execution_count": 32,
   "id": "0c993993",
   "metadata": {},
   "outputs": [
    {
     "data": {
      "text/plain": [
       "(9411.76128062068, 9448.282692712653)"
      ]
     },
     "execution_count": 32,
     "metadata": {},
     "output_type": "execute_result"
    }
   ],
   "source": [
    "lower_limit_male = pd.Series(male_sample_means).mean() - (pd.Series(male_sample_means).std()/np.sqrt(1000))*1.96\n",
    "upper_limit_male = pd.Series(male_sample_means).mean() + (pd.Series(male_sample_means).std()/np.sqrt(1000))*1.96\n",
    "lower_limit_male, upper_limit_male"
   ]
  },
  {
   "cell_type": "code",
   "execution_count": 33,
   "id": "1aa9e9ad",
   "metadata": {},
   "outputs": [
    {
     "name": "stderr",
     "output_type": "stream",
     "text": [
      "/var/folders/jm/7r67wmqx3z15yqc7zh1sp04m0000gn/T/ipykernel_8462/3396541431.py:8: UserWarning: color is redundantly defined by the 'color' keyword argument and the fmt string \"ro-\" (-> color='r'). The keyword argument will take precedence.\n",
      "  plt.plot((lower,upper),(y,y),'ro-',color='blue')\n"
     ]
    },
    {
     "data": {
      "text/plain": [
       "([<matplotlib.axis.YTick at 0x169f66d40>,\n",
       "  <matplotlib.axis.YTick at 0x169f666e0>],\n",
       " [Text(0, 0, 'Male'), Text(0, 1, 'Female')])"
      ]
     },
     "execution_count": 33,
     "metadata": {},
     "output_type": "execute_result"
    },
    {
     "data": {
      "image/png": "[encoded data removed]",
      "text/plain": [
       "<Figure size 640x480 with 1 Axes>"
      ]
     },
     "metadata": {},
     "output_type": "display_data"
    }
   ],
   "source": [
    "data_dict = {}\n",
    "data_dict['category'] = ['Male','Female']\n",
    "data_dict['lower'] = [lower_limit_male,upper_limit_male]\n",
    "data_dict['upper'] = [lower_limit_female,upper_limit_female]\n",
    "dataset = pd.DataFrame(data_dict)\n",
    "\n",
    "for lower,upper,y in zip(dataset['lower'],dataset['upper'],range(len(dataset))):\n",
    "    plt.plot((lower,upper),(y,y),'ro-',color='blue')\n",
    "plt.yticks(range(len(dataset)),list(dataset['category']))\n"
   ]
  },
  {
   "cell_type": "code",
   "execution_count": null,
   "id": "c35bab55",
   "metadata": {},
   "outputs": [],
   "source": []
  }
 ],
 "metadata": {
  "kernelspec": {
   "display_name": "Python 3 (ipykernel)",
   "language": "python",
   "name": "python3"
  },
  "language_info": {
   "codemirror_mode": {
    "name": "ipython",
    "version": 3
   },
   "file_extension": ".py",
   "mimetype": "text/x-python",
   "name": "python",
   "nbconvert_exporter": "python",
   "pygments_lexer": "ipython3",
   "version": "3.10.13"
  }
 },
 "nbformat": 4,
 "nbformat_minor": 5
}
